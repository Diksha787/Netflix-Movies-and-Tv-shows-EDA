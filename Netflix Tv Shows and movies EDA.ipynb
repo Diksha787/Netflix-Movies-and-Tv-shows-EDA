{
 "cells": [
  {
   "cell_type": "markdown",
   "id": "d03e79d4",
   "metadata": {},
   "source": [
    "The aim of this project is to explore and analyze the Netflix shows data after filtering some of the columns. This Netflix movies and TV shows data has 8807 entries (that are rows) and 12 columns. We will alter and filter some columns and perform some feature engineering after this we prepare data for analysis. After all the data wrangling part, we will perform univariate analysis so we can get a better understanding of every column and then bivariate and multivariate analysis so we will understand the relations between columns. In the end, we will conclude the result of the analysis"
   ]
  },
  {
   "cell_type": "markdown",
   "id": "f5403091",
   "metadata": {},
   "source": [
    "## Loading the dataset and getting the insite from it."
   ]
  },
  {
   "cell_type": "code",
   "execution_count": 2,
   "id": "3f3a01b9",
   "metadata": {},
   "outputs": [
    {
     "data": {
      "text/html": [
       "        <script type=\"text/javascript\">\n",
       "        window.PlotlyConfig = {MathJaxConfig: 'local'};\n",
       "        if (window.MathJax && window.MathJax.Hub && window.MathJax.Hub.Config) {window.MathJax.Hub.Config({SVG: {font: \"STIX-Web\"}});}\n",
       "        if (typeof require !== 'undefined') {\n",
       "        require.undef(\"plotly\");\n",
       "        requirejs.config({\n",
       "            paths: {\n",
       "                'plotly': ['https://cdn.plot.ly/plotly-2.12.1.min']\n",
       "            }\n",
       "        });\n",
       "        require(['plotly'], function(Plotly) {\n",
       "            window._Plotly = Plotly;\n",
       "        });\n",
       "        }\n",
       "        </script>\n",
       "        "
      ]
     },
     "metadata": {},
     "output_type": "display_data"
    },
    {
     "data": {
      "text/html": [
       "        <script type=\"text/javascript\">\n",
       "        window.PlotlyConfig = {MathJaxConfig: 'local'};\n",
       "        if (window.MathJax && window.MathJax.Hub && window.MathJax.Hub.Config) {window.MathJax.Hub.Config({SVG: {font: \"STIX-Web\"}});}\n",
       "        if (typeof require !== 'undefined') {\n",
       "        require.undef(\"plotly\");\n",
       "        requirejs.config({\n",
       "            paths: {\n",
       "                'plotly': ['https://cdn.plot.ly/plotly-2.12.1.min']\n",
       "            }\n",
       "        });\n",
       "        require(['plotly'], function(Plotly) {\n",
       "            window._Plotly = Plotly;\n",
       "        });\n",
       "        }\n",
       "        </script>\n",
       "        "
      ]
     },
     "metadata": {},
     "output_type": "display_data"
    }
   ],
   "source": [
    "# Load the required lib\n",
    "# Dependencies\n",
    "import pandas as pd\n",
    "import numpy as np\n",
    "import matplotlib.pyplot as plt\n",
    "import seaborn as sns\n",
    "import plotly as py                \n",
    "import cufflinks as cf\n",
    "%matplotlib inline\n",
    "from plotly.offline import iplot   \n",
    "py.offline.init_notebook_mode(connected=True)\n",
    "cf.go_offline()\n",
    "import plotly.express as px\n",
    "import seaborn as sns"
   ]
  },
  {
   "cell_type": "code",
   "execution_count": 5,
   "id": "65344d24",
   "metadata": {},
   "outputs": [
    {
     "data": {
      "text/html": [
       "<div>\n",
       "<style scoped>\n",
       "    .dataframe tbody tr th:only-of-type {\n",
       "        vertical-align: middle;\n",
       "    }\n",
       "\n",
       "    .dataframe tbody tr th {\n",
       "        vertical-align: top;\n",
       "    }\n",
       "\n",
       "    .dataframe thead th {\n",
       "        text-align: right;\n",
       "    }\n",
       "</style>\n",
       "<table border=\"1\" class=\"dataframe\">\n",
       "  <thead>\n",
       "    <tr style=\"text-align: right;\">\n",
       "      <th></th>\n",
       "      <th>show_id</th>\n",
       "      <th>type</th>\n",
       "      <th>title</th>\n",
       "      <th>director</th>\n",
       "      <th>cast</th>\n",
       "      <th>country</th>\n",
       "      <th>date_added</th>\n",
       "      <th>release_year</th>\n",
       "      <th>rating</th>\n",
       "      <th>duration</th>\n",
       "      <th>listed_in</th>\n",
       "      <th>description</th>\n",
       "    </tr>\n",
       "  </thead>\n",
       "  <tbody>\n",
       "    <tr>\n",
       "      <th>0</th>\n",
       "      <td>s1</td>\n",
       "      <td>Movie</td>\n",
       "      <td>Dick Johnson Is Dead</td>\n",
       "      <td>Kirsten Johnson</td>\n",
       "      <td>NaN</td>\n",
       "      <td>United States</td>\n",
       "      <td>September 25, 2021</td>\n",
       "      <td>2020</td>\n",
       "      <td>PG-13</td>\n",
       "      <td>90 min</td>\n",
       "      <td>Documentaries</td>\n",
       "      <td>As her father nears the end of his life, filmm...</td>\n",
       "    </tr>\n",
       "    <tr>\n",
       "      <th>1</th>\n",
       "      <td>s2</td>\n",
       "      <td>TV Show</td>\n",
       "      <td>Blood &amp; Water</td>\n",
       "      <td>NaN</td>\n",
       "      <td>Ama Qamata, Khosi Ngema, Gail Mabalane, Thaban...</td>\n",
       "      <td>South Africa</td>\n",
       "      <td>September 24, 2021</td>\n",
       "      <td>2021</td>\n",
       "      <td>TV-MA</td>\n",
       "      <td>2 Seasons</td>\n",
       "      <td>International TV Shows, TV Dramas, TV Mysteries</td>\n",
       "      <td>After crossing paths at a party, a Cape Town t...</td>\n",
       "    </tr>\n",
       "    <tr>\n",
       "      <th>2</th>\n",
       "      <td>s3</td>\n",
       "      <td>TV Show</td>\n",
       "      <td>Ganglands</td>\n",
       "      <td>Julien Leclercq</td>\n",
       "      <td>Sami Bouajila, Tracy Gotoas, Samuel Jouy, Nabi...</td>\n",
       "      <td>NaN</td>\n",
       "      <td>September 24, 2021</td>\n",
       "      <td>2021</td>\n",
       "      <td>TV-MA</td>\n",
       "      <td>1 Season</td>\n",
       "      <td>Crime TV Shows, International TV Shows, TV Act...</td>\n",
       "      <td>To protect his family from a powerful drug lor...</td>\n",
       "    </tr>\n",
       "    <tr>\n",
       "      <th>3</th>\n",
       "      <td>s4</td>\n",
       "      <td>TV Show</td>\n",
       "      <td>Jailbirds New Orleans</td>\n",
       "      <td>NaN</td>\n",
       "      <td>NaN</td>\n",
       "      <td>NaN</td>\n",
       "      <td>September 24, 2021</td>\n",
       "      <td>2021</td>\n",
       "      <td>TV-MA</td>\n",
       "      <td>1 Season</td>\n",
       "      <td>Docuseries, Reality TV</td>\n",
       "      <td>Feuds, flirtations and toilet talk go down amo...</td>\n",
       "    </tr>\n",
       "    <tr>\n",
       "      <th>4</th>\n",
       "      <td>s5</td>\n",
       "      <td>TV Show</td>\n",
       "      <td>Kota Factory</td>\n",
       "      <td>NaN</td>\n",
       "      <td>Mayur More, Jitendra Kumar, Ranjan Raj, Alam K...</td>\n",
       "      <td>India</td>\n",
       "      <td>September 24, 2021</td>\n",
       "      <td>2021</td>\n",
       "      <td>TV-MA</td>\n",
       "      <td>2 Seasons</td>\n",
       "      <td>International TV Shows, Romantic TV Shows, TV ...</td>\n",
       "      <td>In a city of coaching centers known to train I...</td>\n",
       "    </tr>\n",
       "  </tbody>\n",
       "</table>\n",
       "</div>"
      ],
      "text/plain": [
       "  show_id     type                  title         director  \\\n",
       "0      s1    Movie   Dick Johnson Is Dead  Kirsten Johnson   \n",
       "1      s2  TV Show          Blood & Water              NaN   \n",
       "2      s3  TV Show              Ganglands  Julien Leclercq   \n",
       "3      s4  TV Show  Jailbirds New Orleans              NaN   \n",
       "4      s5  TV Show           Kota Factory              NaN   \n",
       "\n",
       "                                                cast        country  \\\n",
       "0                                                NaN  United States   \n",
       "1  Ama Qamata, Khosi Ngema, Gail Mabalane, Thaban...   South Africa   \n",
       "2  Sami Bouajila, Tracy Gotoas, Samuel Jouy, Nabi...            NaN   \n",
       "3                                                NaN            NaN   \n",
       "4  Mayur More, Jitendra Kumar, Ranjan Raj, Alam K...          India   \n",
       "\n",
       "           date_added  release_year rating   duration  \\\n",
       "0  September 25, 2021          2020  PG-13     90 min   \n",
       "1  September 24, 2021          2021  TV-MA  2 Seasons   \n",
       "2  September 24, 2021          2021  TV-MA   1 Season   \n",
       "3  September 24, 2021          2021  TV-MA   1 Season   \n",
       "4  September 24, 2021          2021  TV-MA  2 Seasons   \n",
       "\n",
       "                                           listed_in  \\\n",
       "0                                      Documentaries   \n",
       "1    International TV Shows, TV Dramas, TV Mysteries   \n",
       "2  Crime TV Shows, International TV Shows, TV Act...   \n",
       "3                             Docuseries, Reality TV   \n",
       "4  International TV Shows, Romantic TV Shows, TV ...   \n",
       "\n",
       "                                         description  \n",
       "0  As her father nears the end of his life, filmm...  \n",
       "1  After crossing paths at a party, a Cape Town t...  \n",
       "2  To protect his family from a powerful drug lor...  \n",
       "3  Feuds, flirtations and toilet talk go down amo...  \n",
       "4  In a city of coaching centers known to train I...  "
      ]
     },
     "execution_count": 5,
     "metadata": {},
     "output_type": "execute_result"
    }
   ],
   "source": [
    "# Loading the dataset \n",
    "Netflix = pd.read_csv('netflix_titles.csv')\n",
    "Netflix.head()"
   ]
  },
  {
   "cell_type": "markdown",
   "id": "fd60a523",
   "metadata": {},
   "source": [
    "## Netfilx TV shows and Movies-EDA"
   ]
  },
  {
   "cell_type": "markdown",
   "id": "c2dbd550",
   "metadata": {},
   "source": [
    "In this repository I am working on titanic data and applying all the EDA techniques."
   ]
  },
  {
   "cell_type": "markdown",
   "id": "0b2b7af5",
   "metadata": {},
   "source": [
    "## Insites of datasets"
   ]
  },
  {
   "cell_type": "code",
   "execution_count": null,
   "id": "299f0cf4",
   "metadata": {},
   "outputs": [],
   "source": [
    "# show_id=Show id of movie\n",
    "# type=type of moviw\n",
    "# title=title of the movie\n",
    "# director=director of movies and tv shows\n",
    "# cast=cast of the movie\n",
    "# country=which movie present in which country\n",
    "# date_added=date of the movie\n",
    "# release_year=releasing year of the movie\n",
    "# rating=rating of movie and tc show\n",
    "# duration=time limit of movie and tv show\n",
    "# listed_in:which year movies are listed\n",
    "# description:description of movie\n"
   ]
  },
  {
   "cell_type": "markdown",
   "id": "af3f7d8a",
   "metadata": {},
   "source": [
    "## Data Preprocessing"
   ]
  },
  {
   "cell_type": "code",
   "execution_count": 7,
   "id": "53ae92ac",
   "metadata": {},
   "outputs": [
    {
     "data": {
      "text/plain": [
       "(8807, 12)"
      ]
     },
     "execution_count": 7,
     "metadata": {},
     "output_type": "execute_result"
    }
   ],
   "source": [
    "Netflix.shape"
   ]
  },
  {
   "cell_type": "code",
   "execution_count": 8,
   "id": "675cdcf5",
   "metadata": {},
   "outputs": [
    {
     "name": "stdout",
     "output_type": "stream",
     "text": [
      "<class 'pandas.core.frame.DataFrame'>\n",
      "RangeIndex: 8807 entries, 0 to 8806\n",
      "Data columns (total 12 columns):\n",
      " #   Column        Non-Null Count  Dtype \n",
      "---  ------        --------------  ----- \n",
      " 0   show_id       8807 non-null   object\n",
      " 1   type          8807 non-null   object\n",
      " 2   title         8807 non-null   object\n",
      " 3   director      6173 non-null   object\n",
      " 4   cast          7982 non-null   object\n",
      " 5   country       7976 non-null   object\n",
      " 6   date_added    8797 non-null   object\n",
      " 7   release_year  8807 non-null   int64 \n",
      " 8   rating        8803 non-null   object\n",
      " 9   duration      8804 non-null   object\n",
      " 10  listed_in     8807 non-null   object\n",
      " 11  description   8807 non-null   object\n",
      "dtypes: int64(1), object(11)\n",
      "memory usage: 825.8+ KB\n"
     ]
    }
   ],
   "source": [
    "# checking the information part\n",
    "Netflix.info()"
   ]
  },
  {
   "cell_type": "code",
   "execution_count": 9,
   "id": "468d40fc",
   "metadata": {},
   "outputs": [
    {
     "data": {
      "text/plain": [
       "Index(['show_id', 'type', 'title', 'director', 'cast', 'country', 'date_added',\n",
       "       'release_year', 'rating', 'duration', 'listed_in', 'description'],\n",
       "      dtype='object')"
      ]
     },
     "execution_count": 9,
     "metadata": {},
     "output_type": "execute_result"
    }
   ],
   "source": [
    "Netflix.columns"
   ]
  },
  {
   "cell_type": "code",
   "execution_count": 10,
   "id": "1a5e70b1",
   "metadata": {},
   "outputs": [
    {
     "data": {
      "text/plain": [
       "show_id            0\n",
       "type               0\n",
       "title              0\n",
       "director        2634\n",
       "cast             825\n",
       "country          831\n",
       "date_added        10\n",
       "release_year       0\n",
       "rating             4\n",
       "duration           3\n",
       "listed_in          0\n",
       "description        0\n",
       "dtype: int64"
      ]
     },
     "execution_count": 10,
     "metadata": {},
     "output_type": "execute_result"
    }
   ],
   "source": [
    "## # checking the null values\n",
    "Netflix.isnull().sum()"
   ]
  },
  {
   "cell_type": "markdown",
   "id": "757732d7",
   "metadata": {},
   "source": [
    "From the above i can see that there are null value present inside two different columns i.e. director and director. We need to handle it using mean,median, mode."
   ]
  },
  {
   "cell_type": "code",
   "execution_count": 14,
   "id": "0b88cc70",
   "metadata": {},
   "outputs": [
    {
     "data": {
      "text/plain": [
       "array(['Movie', 'TV Show'], dtype=object)"
      ]
     },
     "execution_count": 14,
     "metadata": {},
     "output_type": "execute_result"
    }
   ],
   "source": [
    "Netflix['type'].unique()"
   ]
  },
  {
   "cell_type": "code",
   "execution_count": 15,
   "id": "d8387aff",
   "metadata": {},
   "outputs": [
    {
     "data": {
      "text/html": [
       "<div>\n",
       "<style scoped>\n",
       "    .dataframe tbody tr th:only-of-type {\n",
       "        vertical-align: middle;\n",
       "    }\n",
       "\n",
       "    .dataframe tbody tr th {\n",
       "        vertical-align: top;\n",
       "    }\n",
       "\n",
       "    .dataframe thead th {\n",
       "        text-align: right;\n",
       "    }\n",
       "</style>\n",
       "<table border=\"1\" class=\"dataframe\">\n",
       "  <thead>\n",
       "    <tr style=\"text-align: right;\">\n",
       "      <th></th>\n",
       "      <th>release_year</th>\n",
       "    </tr>\n",
       "  </thead>\n",
       "  <tbody>\n",
       "    <tr>\n",
       "      <th>count</th>\n",
       "      <td>8807.000000</td>\n",
       "    </tr>\n",
       "    <tr>\n",
       "      <th>mean</th>\n",
       "      <td>2014.180198</td>\n",
       "    </tr>\n",
       "    <tr>\n",
       "      <th>std</th>\n",
       "      <td>8.819312</td>\n",
       "    </tr>\n",
       "    <tr>\n",
       "      <th>min</th>\n",
       "      <td>1925.000000</td>\n",
       "    </tr>\n",
       "    <tr>\n",
       "      <th>25%</th>\n",
       "      <td>2013.000000</td>\n",
       "    </tr>\n",
       "    <tr>\n",
       "      <th>50%</th>\n",
       "      <td>2017.000000</td>\n",
       "    </tr>\n",
       "    <tr>\n",
       "      <th>75%</th>\n",
       "      <td>2019.000000</td>\n",
       "    </tr>\n",
       "    <tr>\n",
       "      <th>max</th>\n",
       "      <td>2021.000000</td>\n",
       "    </tr>\n",
       "  </tbody>\n",
       "</table>\n",
       "</div>"
      ],
      "text/plain": [
       "       release_year\n",
       "count   8807.000000\n",
       "mean    2014.180198\n",
       "std        8.819312\n",
       "min     1925.000000\n",
       "25%     2013.000000\n",
       "50%     2017.000000\n",
       "75%     2019.000000\n",
       "max     2021.000000"
      ]
     },
     "execution_count": 15,
     "metadata": {},
     "output_type": "execute_result"
    }
   ],
   "source": [
    "Netflix.describe()"
   ]
  },
  {
   "cell_type": "code",
   "execution_count": 131,
   "id": "90c821b3",
   "metadata": {},
   "outputs": [
    {
     "data": {
      "text/html": [
       "<div>\n",
       "<style scoped>\n",
       "    .dataframe tbody tr th:only-of-type {\n",
       "        vertical-align: middle;\n",
       "    }\n",
       "\n",
       "    .dataframe tbody tr th {\n",
       "        vertical-align: top;\n",
       "    }\n",
       "\n",
       "    .dataframe thead th {\n",
       "        text-align: right;\n",
       "    }\n",
       "</style>\n",
       "<table border=\"1\" class=\"dataframe\">\n",
       "  <thead>\n",
       "    <tr style=\"text-align: right;\">\n",
       "      <th></th>\n",
       "      <th>show_id</th>\n",
       "      <th>title</th>\n",
       "      <th>country</th>\n",
       "      <th>listed_in</th>\n",
       "      <th>description</th>\n",
       "      <th>month_added</th>\n",
       "    </tr>\n",
       "  </thead>\n",
       "  <tbody>\n",
       "    <tr>\n",
       "      <th>count</th>\n",
       "      <td>8797</td>\n",
       "      <td>8797</td>\n",
       "      <td>8797</td>\n",
       "      <td>8797</td>\n",
       "      <td>8797</td>\n",
       "      <td>8797</td>\n",
       "    </tr>\n",
       "    <tr>\n",
       "      <th>unique</th>\n",
       "      <td>8797</td>\n",
       "      <td>8797</td>\n",
       "      <td>86</td>\n",
       "      <td>513</td>\n",
       "      <td>8765</td>\n",
       "      <td>12</td>\n",
       "    </tr>\n",
       "    <tr>\n",
       "      <th>top</th>\n",
       "      <td>s1</td>\n",
       "      <td>Dick Johnson Is Dead</td>\n",
       "      <td>[United States]</td>\n",
       "      <td>Dramas, International Movies</td>\n",
       "      <td>Paranormal activity at a lush, abandoned prope...</td>\n",
       "      <td>July</td>\n",
       "    </tr>\n",
       "    <tr>\n",
       "      <th>freq</th>\n",
       "      <td>1</td>\n",
       "      <td>1</td>\n",
       "      <td>4035</td>\n",
       "      <td>362</td>\n",
       "      <td>4</td>\n",
       "      <td>827</td>\n",
       "    </tr>\n",
       "  </tbody>\n",
       "</table>\n",
       "</div>"
      ],
      "text/plain": [
       "       show_id                 title          country  \\\n",
       "count     8797                  8797             8797   \n",
       "unique    8797                  8797               86   \n",
       "top         s1  Dick Johnson Is Dead  [United States]   \n",
       "freq         1                     1             4035   \n",
       "\n",
       "                           listed_in  \\\n",
       "count                           8797   \n",
       "unique                           513   \n",
       "top     Dramas, International Movies   \n",
       "freq                             362   \n",
       "\n",
       "                                              description month_added  \n",
       "count                                                8797        8797  \n",
       "unique                                               8765          12  \n",
       "top     Paranormal activity at a lush, abandoned prope...        July  \n",
       "freq                                                    4         827  "
      ]
     },
     "execution_count": 131,
     "metadata": {},
     "output_type": "execute_result"
    }
   ],
   "source": [
    "Netflix.describe(include='object')"
   ]
  },
  {
   "cell_type": "code",
   "execution_count": 17,
   "id": "eac9ee17",
   "metadata": {},
   "outputs": [
    {
     "data": {
      "text/plain": [
       "CategoricalDtype(categories=['Movie', 'TV Show'], ordered=False)"
      ]
     },
     "execution_count": 17,
     "metadata": {},
     "output_type": "execute_result"
    }
   ],
   "source": [
    "# type column have only 2 kind of values so we will convert it into category datatype\n",
    "Netflix['type'] = Netflix['type'].astype('category')\n",
    "Netflix['type'].dtype"
   ]
  },
  {
   "cell_type": "code",
   "execution_count": 20,
   "id": "8de72385",
   "metadata": {},
   "outputs": [
    {
     "data": {
      "text/plain": [
       "show_id            0\n",
       "type               0\n",
       "title              0\n",
       "director        2634\n",
       "cast             825\n",
       "country          831\n",
       "date_added        10\n",
       "release_year       0\n",
       "rating             4\n",
       "duration           3\n",
       "listed_in          0\n",
       "description        0\n",
       "dtype: int64"
      ]
     },
     "execution_count": 20,
     "metadata": {},
     "output_type": "execute_result"
    }
   ],
   "source": [
    "# checking missing values\n",
    "Netflix.isnull().sum()"
   ]
  },
  {
   "cell_type": "code",
   "execution_count": 22,
   "id": "8234f02a",
   "metadata": {},
   "outputs": [],
   "source": [
    "# 2634 show director and 825 cast are missing we can't do anything for missing values so we are dropping it\n",
    "Netflix.drop(columns={'director','cast'}, inplace=True)\n"
   ]
  },
  {
   "cell_type": "code",
   "execution_count": 25,
   "id": "d9be6da6",
   "metadata": {},
   "outputs": [],
   "source": [
    "# country have 831 missing values so we will fill them using maximum occered country (mode)\n",
    "Netflix['country'].fillna(Netflix['country'].mode()[0],inplace=True)"
   ]
  },
  {
   "cell_type": "code",
   "execution_count": 32,
   "id": "11a7222b",
   "metadata": {},
   "outputs": [],
   "source": [
    "# 4 rating are missing so we will fill them using maximum occering value  which is mode\n",
    "Netflix['rating'].fillna(Netflix['rating'].value_counts().index[0], inplace=True)"
   ]
  },
  {
   "cell_type": "code",
   "execution_count": 94,
   "id": "81686f94",
   "metadata": {},
   "outputs": [
    {
     "name": "stdout",
     "output_type": "stream",
     "text": [
      "<class 'pandas.core.frame.DataFrame'>\n",
      "Int64Index: 8797 entries, 0 to 8806\n",
      "Data columns (total 12 columns):\n",
      " #   Column        Non-Null Count  Dtype         \n",
      "---  ------        --------------  -----         \n",
      " 0   show_id       8797 non-null   object        \n",
      " 1   type          8797 non-null   category      \n",
      " 2   title         8797 non-null   object        \n",
      " 3   country       8797 non-null   object        \n",
      " 4   date_added    8797 non-null   datetime64[ns]\n",
      " 5   release_year  8797 non-null   int64         \n",
      " 6   duration      8797 non-null   int32         \n",
      " 7   listed_in     8797 non-null   object        \n",
      " 8   description   8797 non-null   object        \n",
      " 9   month_added   8797 non-null   object        \n",
      " 10  year_added    8797 non-null   int64         \n",
      " 11  targeted_age  8797 non-null   category      \n",
      "dtypes: category(2), datetime64[ns](1), int32(1), int64(2), object(6)\n",
      "memory usage: 997.2+ KB\n"
     ]
    }
   ],
   "source": [
    "Netflix.info()"
   ]
  },
  {
   "cell_type": "code",
   "execution_count": 122,
   "id": "f1f36260",
   "metadata": {},
   "outputs": [
    {
     "data": {
      "text/plain": [
       "show_id         0\n",
       "type            0\n",
       "title           0\n",
       "country         0\n",
       "date_added      0\n",
       "release_year    0\n",
       "duration        0\n",
       "listed_in       0\n",
       "description     0\n",
       "month_added     0\n",
       "year_added      0\n",
       "targeted_age    0\n",
       "dtype: int64"
      ]
     },
     "execution_count": 122,
     "metadata": {},
     "output_type": "execute_result"
    }
   ],
   "source": [
    "# rechecking null values\n",
    "Netflix.isnull().sum()"
   ]
  },
  {
   "cell_type": "markdown",
   "id": "f6186446",
   "metadata": {},
   "source": [
    "## Checking for duplicates"
   ]
  },
  {
   "cell_type": "code",
   "execution_count": 95,
   "id": "e0622976",
   "metadata": {},
   "outputs": [
    {
     "data": {
      "text/plain": [
       "0"
      ]
     },
     "execution_count": 95,
     "metadata": {},
     "output_type": "execute_result"
    }
   ],
   "source": [
    "# checking entire row is duplicating or not\n",
    "Netflix.duplicated().sum()"
   ]
  },
  {
   "cell_type": "code",
   "execution_count": 96,
   "id": "b45278a7",
   "metadata": {},
   "outputs": [
    {
     "data": {
      "text/plain": [
       "0"
      ]
     },
     "execution_count": 96,
     "metadata": {},
     "output_type": "execute_result"
    }
   ],
   "source": [
    "# Checking shows are duplicating or not\n",
    "Netflix['title'].duplicated().sum()"
   ]
  },
  {
   "cell_type": "markdown",
   "id": "875efe1b",
   "metadata": {},
   "source": [
    "## Feature engineering"
   ]
  },
  {
   "cell_type": "code",
   "execution_count": 98,
   "id": "bb9e93d3",
   "metadata": {},
   "outputs": [
    {
     "data": {
      "text/plain": [
       "['Teens', 'Adults', 'Older Kids', 'Kids']\n",
       "Categories (4, object): ['Adults', 'Kids', 'Older Kids', 'Teens']"
      ]
     },
     "execution_count": 98,
     "metadata": {},
     "output_type": "execute_result"
    }
   ],
   "source": [
    "Netflix['targeted_age'].unique()"
   ]
  },
  {
   "cell_type": "code",
   "execution_count": 99,
   "id": "6e19f272",
   "metadata": {},
   "outputs": [],
   "source": [
    "# there are only 4 unique category of targeted_age so we will convert it into category\n",
    "Netflix['targeted_age'] = Netflix['targeted_age'].astype('category')"
   ]
  },
  {
   "cell_type": "code",
   "execution_count": 134,
   "id": "d9500666",
   "metadata": {},
   "outputs": [
    {
     "data": {
      "text/html": [
       "<div>\n",
       "<style scoped>\n",
       "    .dataframe tbody tr th:only-of-type {\n",
       "        vertical-align: middle;\n",
       "    }\n",
       "\n",
       "    .dataframe tbody tr th {\n",
       "        vertical-align: top;\n",
       "    }\n",
       "\n",
       "    .dataframe thead th {\n",
       "        text-align: right;\n",
       "    }\n",
       "</style>\n",
       "<table border=\"1\" class=\"dataframe\">\n",
       "  <thead>\n",
       "    <tr style=\"text-align: right;\">\n",
       "      <th></th>\n",
       "      <th>show_id</th>\n",
       "      <th>type</th>\n",
       "      <th>title</th>\n",
       "      <th>country</th>\n",
       "      <th>date_added</th>\n",
       "      <th>release_year</th>\n",
       "      <th>duration</th>\n",
       "      <th>listed_in</th>\n",
       "      <th>description</th>\n",
       "      <th>month_added</th>\n",
       "      <th>year_added</th>\n",
       "      <th>targeted_age</th>\n",
       "    </tr>\n",
       "  </thead>\n",
       "  <tbody>\n",
       "    <tr>\n",
       "      <th>6897</th>\n",
       "      <td>s6898</td>\n",
       "      <td>Movie</td>\n",
       "      <td>Green White Green (And All the Beautiful Colou...</td>\n",
       "      <td>[Nigeria]</td>\n",
       "      <td>2018-01-01</td>\n",
       "      <td>2016</td>\n",
       "      <td>102</td>\n",
       "      <td>Comedies, Independent Movies, International Mo...</td>\n",
       "      <td>Three young Nigerian bohemians, each from one ...</td>\n",
       "      <td>January</td>\n",
       "      <td>2018</td>\n",
       "      <td>Adults</td>\n",
       "    </tr>\n",
       "    <tr>\n",
       "      <th>7178</th>\n",
       "      <td>s7179</td>\n",
       "      <td>Movie</td>\n",
       "      <td>Kevin Hart: Laugh at My Pain</td>\n",
       "      <td>[United States]</td>\n",
       "      <td>2018-10-01</td>\n",
       "      <td>2011</td>\n",
       "      <td>89</td>\n",
       "      <td>Stand-Up Comedy</td>\n",
       "      <td>Sometimes edgy and always hilarious, comedian ...</td>\n",
       "      <td>October</td>\n",
       "      <td>2018</td>\n",
       "      <td>Adults</td>\n",
       "    </tr>\n",
       "  </tbody>\n",
       "</table>\n",
       "</div>"
      ],
      "text/plain": [
       "     show_id   type                                              title  \\\n",
       "6897   s6898  Movie  Green White Green (And All the Beautiful Colou...   \n",
       "7178   s7179  Movie                       Kevin Hart: Laugh at My Pain   \n",
       "\n",
       "              country date_added  release_year  duration  \\\n",
       "6897        [Nigeria] 2018-01-01          2016       102   \n",
       "7178  [United States] 2018-10-01          2011        89   \n",
       "\n",
       "                                              listed_in  \\\n",
       "6897  Comedies, Independent Movies, International Mo...   \n",
       "7178                                    Stand-Up Comedy   \n",
       "\n",
       "                                            description month_added  \\\n",
       "6897  Three young Nigerian bohemians, each from one ...     January   \n",
       "7178  Sometimes edgy and always hilarious, comedian ...     October   \n",
       "\n",
       "      year_added targeted_age  \n",
       "6897        2018       Adults  \n",
       "7178        2018       Adults  "
      ]
     },
     "execution_count": 134,
     "metadata": {},
     "output_type": "execute_result"
    }
   ],
   "source": [
    "Netflix.sample(2)"
   ]
  },
  {
   "cell_type": "code",
   "execution_count": 135,
   "id": "89e76461",
   "metadata": {},
   "outputs": [
    {
     "data": {
      "text/plain": [
       "array([ 2,  1,  9,  4,  5,  3,  6,  7, 10,  8, 17, 13, 15, 12, 11])"
      ]
     },
     "execution_count": 135,
     "metadata": {},
     "output_type": "execute_result"
    }
   ],
   "source": [
    "## # checking durations\n",
    "Netflix[Netflix['type']=='TV Show']['duration'].unique()"
   ]
  },
  {
   "cell_type": "code",
   "execution_count": 56,
   "id": "45e65735",
   "metadata": {},
   "outputs": [],
   "source": [
    "## First we create two dataframe one for movies and othe for TV Show"
   ]
  },
  {
   "cell_type": "code",
   "execution_count": 104,
   "id": "5c0aacb7",
   "metadata": {},
   "outputs": [],
   "source": [
    "## CREATING DATAFRAME FOR TYPE MOVIE\n",
    "Movie_df = Netflix[Netflix['type']=='Movie']"
   ]
  },
  {
   "cell_type": "code",
   "execution_count": 137,
   "id": "f5663798",
   "metadata": {},
   "outputs": [
    {
     "data": {
      "text/html": [
       "<div>\n",
       "<style scoped>\n",
       "    .dataframe tbody tr th:only-of-type {\n",
       "        vertical-align: middle;\n",
       "    }\n",
       "\n",
       "    .dataframe tbody tr th {\n",
       "        vertical-align: top;\n",
       "    }\n",
       "\n",
       "    .dataframe thead th {\n",
       "        text-align: right;\n",
       "    }\n",
       "</style>\n",
       "<table border=\"1\" class=\"dataframe\">\n",
       "  <thead>\n",
       "    <tr style=\"text-align: right;\">\n",
       "      <th></th>\n",
       "      <th>show_id</th>\n",
       "      <th>type</th>\n",
       "      <th>title</th>\n",
       "      <th>country</th>\n",
       "      <th>date_added</th>\n",
       "      <th>release_year</th>\n",
       "      <th>duration_min</th>\n",
       "      <th>listed_in</th>\n",
       "      <th>description</th>\n",
       "      <th>month_added</th>\n",
       "      <th>year_added</th>\n",
       "      <th>targeted_age</th>\n",
       "    </tr>\n",
       "  </thead>\n",
       "  <tbody>\n",
       "    <tr>\n",
       "      <th>8057</th>\n",
       "      <td>s8058</td>\n",
       "      <td>Movie</td>\n",
       "      <td>Sons of Ben</td>\n",
       "      <td>United States</td>\n",
       "      <td>2016-12-10</td>\n",
       "      <td>2016</td>\n",
       "      <td>73</td>\n",
       "      <td>Documentaries, Sports Movies</td>\n",
       "      <td>Passion is an understatement. Meet the folks w...</td>\n",
       "      <td>December</td>\n",
       "      <td>2016</td>\n",
       "      <td>Adults</td>\n",
       "    </tr>\n",
       "    <tr>\n",
       "      <th>4322</th>\n",
       "      <td>s4323</td>\n",
       "      <td>Movie</td>\n",
       "      <td>ReMastered: Who Killed Jam Master Jay?</td>\n",
       "      <td>United States</td>\n",
       "      <td>2018-12-07</td>\n",
       "      <td>2018</td>\n",
       "      <td>59</td>\n",
       "      <td>Documentaries, Music &amp; Musicals</td>\n",
       "      <td>Run-DMC DJ Jam Master Jay made a huge impact i...</td>\n",
       "      <td>December</td>\n",
       "      <td>2018</td>\n",
       "      <td>Adults</td>\n",
       "    </tr>\n",
       "  </tbody>\n",
       "</table>\n",
       "</div>"
      ],
      "text/plain": [
       "     show_id   type                                   title        country  \\\n",
       "8057   s8058  Movie                             Sons of Ben  United States   \n",
       "4322   s4323  Movie  ReMastered: Who Killed Jam Master Jay?  United States   \n",
       "\n",
       "     date_added  release_year  duration_min                        listed_in  \\\n",
       "8057 2016-12-10          2016            73     Documentaries, Sports Movies   \n",
       "4322 2018-12-07          2018            59  Documentaries, Music & Musicals   \n",
       "\n",
       "                                            description month_added  \\\n",
       "8057  Passion is an understatement. Meet the folks w...    December   \n",
       "4322  Run-DMC DJ Jam Master Jay made a huge impact i...    December   \n",
       "\n",
       "      year_added targeted_age  \n",
       "8057        2016       Adults  \n",
       "4322        2018       Adults  "
      ]
     },
     "execution_count": 137,
     "metadata": {},
     "output_type": "execute_result"
    }
   ],
   "source": [
    "# renaming column name duration to duration_min\n",
    "Movie_df.rename(columns = {'duration':'duration_min'}, inplace = True)\n",
    "Movie_df.sample(2)"
   ]
  },
  {
   "cell_type": "code",
   "execution_count": 106,
   "id": "ba98fd3b",
   "metadata": {},
   "outputs": [],
   "source": [
    "## ## CREATING DATAFRAME FOR TYPE 'tv SHOW'\n",
    "TV_Show_df = Netflix[Netflix['type']=='TV Show']"
   ]
  },
  {
   "cell_type": "code",
   "execution_count": 107,
   "id": "0b845ec4",
   "metadata": {},
   "outputs": [
    {
     "data": {
      "text/html": [
       "<div>\n",
       "<style scoped>\n",
       "    .dataframe tbody tr th:only-of-type {\n",
       "        vertical-align: middle;\n",
       "    }\n",
       "\n",
       "    .dataframe tbody tr th {\n",
       "        vertical-align: top;\n",
       "    }\n",
       "\n",
       "    .dataframe thead th {\n",
       "        text-align: right;\n",
       "    }\n",
       "</style>\n",
       "<table border=\"1\" class=\"dataframe\">\n",
       "  <thead>\n",
       "    <tr style=\"text-align: right;\">\n",
       "      <th></th>\n",
       "      <th>show_id</th>\n",
       "      <th>type</th>\n",
       "      <th>title</th>\n",
       "      <th>country</th>\n",
       "      <th>date_added</th>\n",
       "      <th>release_year</th>\n",
       "      <th>season</th>\n",
       "      <th>listed_in</th>\n",
       "      <th>description</th>\n",
       "      <th>month_added</th>\n",
       "      <th>year_added</th>\n",
       "      <th>targeted_age</th>\n",
       "    </tr>\n",
       "  </thead>\n",
       "  <tbody>\n",
       "    <tr>\n",
       "      <th>2470</th>\n",
       "      <td>s2471</td>\n",
       "      <td>TV Show</td>\n",
       "      <td>Supergirl</td>\n",
       "      <td>United States</td>\n",
       "      <td>2020-05-25</td>\n",
       "      <td>2019</td>\n",
       "      <td>5</td>\n",
       "      <td>TV Action &amp; Adventure, TV Sci-Fi &amp; Fantasy</td>\n",
       "      <td>To avert a disaster, Kara Danvers reveals her ...</td>\n",
       "      <td>May</td>\n",
       "      <td>2020</td>\n",
       "      <td>Teens</td>\n",
       "    </tr>\n",
       "  </tbody>\n",
       "</table>\n",
       "</div>"
      ],
      "text/plain": [
       "     show_id     type      title        country date_added  release_year  \\\n",
       "2470   s2471  TV Show  Supergirl  United States 2020-05-25          2019   \n",
       "\n",
       "      season                                   listed_in  \\\n",
       "2470       5  TV Action & Adventure, TV Sci-Fi & Fantasy   \n",
       "\n",
       "                                            description month_added  \\\n",
       "2470  To avert a disaster, Kara Danvers reveals her ...         May   \n",
       "\n",
       "      year_added targeted_age  \n",
       "2470        2020        Teens  "
      ]
     },
     "execution_count": 107,
     "metadata": {},
     "output_type": "execute_result"
    }
   ],
   "source": [
    "# Changing column name to duration to season\n",
    "TV_Show_df.rename(columns = {'duration':'season'}, inplace = True)\n",
    "TV_Show_df.sample()"
   ]
  },
  {
   "cell_type": "markdown",
   "id": "604e9ddd",
   "metadata": {},
   "source": [
    "## We will follow this order by column wise :-\n",
    "\n",
    "    Categorical\n",
    "    Numerical"
   ]
  },
  {
   "cell_type": "code",
   "execution_count": 63,
   "id": "b842abc9",
   "metadata": {},
   "outputs": [
    {
     "data": {
      "text/plain": [
       "8797"
      ]
     },
     "execution_count": 63,
     "metadata": {},
     "output_type": "execute_result"
    }
   ],
   "source": [
    "Netflix['type'].shape[0]"
   ]
  },
  {
   "cell_type": "code",
   "execution_count": 64,
   "id": "119f4ff0",
   "metadata": {},
   "outputs": [
    {
     "data": {
      "text/plain": [
       "Movie      6131\n",
       "TV Show    2666\n",
       "Name: type, dtype: int64"
      ]
     },
     "execution_count": 64,
     "metadata": {},
     "output_type": "execute_result"
    }
   ],
   "source": [
    "Netflix['type'].value_counts()"
   ]
  },
  {
   "cell_type": "code",
   "execution_count": 118,
   "id": "a02b4f12",
   "metadata": {},
   "outputs": [
    {
     "data": {
      "image/png": "[encoded data removed]",
      "text/plain": [
       "<Figure size 1152x648 with 1 Axes>"
      ]
     },
     "metadata": {
      "needs_background": "light"
     },
     "output_type": "display_data"
    }
   ],
   "source": [
    "Netflix['type'].value_counts().plot(kind='bar', title='Movies VS Tv Shows', figsize=(16,9))\n",
    "plt.show()"
   ]
  },
  {
   "cell_type": "code",
   "execution_count": 120,
   "id": "6f8d68c5",
   "metadata": {},
   "outputs": [
    {
     "data": {
      "image/png": "[encoded data removed]",
      "text/plain": [
       "<Figure size 432x288 with 1 Axes>"
      ]
     },
     "metadata": {},
     "output_type": "display_data"
    }
   ],
   "source": [
    "Netflix['type'].value_counts().plot(kind='pie', autopct='%.2f')\n",
    "plt.show()\n",
    "\n"
   ]
  },
  {
   "cell_type": "code",
   "execution_count": 78,
   "id": "7528a393",
   "metadata": {},
   "outputs": [],
   "source": [
    "## targated_age"
   ]
  },
  {
   "cell_type": "code",
   "execution_count": 72,
   "id": "b37af077",
   "metadata": {},
   "outputs": [
    {
     "data": {
      "text/plain": [
       "8797"
      ]
     },
     "execution_count": 72,
     "metadata": {},
     "output_type": "execute_result"
    }
   ],
   "source": [
    "Netflix['targeted_age'].count()"
   ]
  },
  {
   "cell_type": "code",
   "execution_count": 73,
   "id": "85ccecd3",
   "metadata": {},
   "outputs": [
    {
     "data": {
      "text/plain": [
       "Adults        4096\n",
       "Teens         2647\n",
       "Older Kids    1487\n",
       "Kids           567\n",
       "Name: targeted_age, dtype: int64"
      ]
     },
     "execution_count": 73,
     "metadata": {},
     "output_type": "execute_result"
    }
   ],
   "source": [
    "Netflix['targeted_age'].value_counts()"
   ]
  },
  {
   "cell_type": "code",
   "execution_count": 75,
   "id": "0cb31128",
   "metadata": {},
   "outputs": [
    {
     "data": {
      "image/png": "[encoded data removed]",
      "text/plain": [
       "<Figure size 432x288 with 1 Axes>"
      ]
     },
     "metadata": {
      "needs_background": "light"
     },
     "output_type": "display_data"
    }
   ],
   "source": [
    "sns.countplot(x=Netflix['targeted_age'])\n",
    "plt.show()"
   ]
  },
  {
   "cell_type": "code",
   "execution_count": 145,
   "id": "54970561",
   "metadata": {},
   "outputs": [],
   "source": [
    "# there are 8791 movies and out of that Adult movies are maxium which 4000\n",
    "# there are 550 movies for the kids\n",
    "#there are 1500 movies for older kids\n",
    "# there are 2500 movies for teens\n"
   ]
  },
  {
   "cell_type": "code",
   "execution_count": 76,
   "id": "2e3cd8b4",
   "metadata": {},
   "outputs": [
    {
     "data": {
      "image/png": "[encoded data removed]",
      "text/plain": [
       "<Figure size 432x288 with 1 Axes>"
      ]
     },
     "metadata": {},
     "output_type": "display_data"
    }
   ],
   "source": [
    "Netflix['targeted_age'].value_counts().plot(kind='pie', autopct='%.1f')\n",
    "plt.show()"
   ]
  },
  {
   "cell_type": "code",
   "execution_count": 77,
   "id": "f58fa01e",
   "metadata": {},
   "outputs": [],
   "source": [
    "# there are 8791 movies and out of that Adult movies are maxium which 4091\n",
    "# 47 percent movies are adult movies"
   ]
  },
  {
   "cell_type": "markdown",
   "id": "10166a5f",
   "metadata": {},
   "source": [
    "## Release_year"
   ]
  },
  {
   "cell_type": "code",
   "execution_count": 83,
   "id": "fb7465f1",
   "metadata": {},
   "outputs": [
    {
     "data": {
      "text/plain": [
       "count    8797.000000\n",
       "mean     2014.183472\n",
       "std         8.822191\n",
       "min      1925.000000\n",
       "25%      2013.000000\n",
       "50%      2017.000000\n",
       "75%      2019.000000\n",
       "max      2021.000000\n",
       "Name: release_year, dtype: float64"
      ]
     },
     "execution_count": 83,
     "metadata": {},
     "output_type": "execute_result"
    }
   ],
   "source": [
    "Netflix['release_year'].describe()"
   ]
  },
  {
   "cell_type": "code",
   "execution_count": 140,
   "id": "2171964a",
   "metadata": {},
   "outputs": [
    {
     "data": {
      "text/plain": [
       "<AxesSubplot:>"
      ]
     },
     "execution_count": 140,
     "metadata": {},
     "output_type": "execute_result"
    },
    {
     "data": {
      "image/png": "[encoded data removed]",
      "text/plain": [
       "<Figure size 432x288 with 1 Axes>"
      ]
     },
     "metadata": {
      "needs_background": "light"
     },
     "output_type": "display_data"
    }
   ],
   "source": [
    "# top 20 release year in which maximun movie released\n",
    "Netflix['release_year'].value_counts().head(20).plot(kind='bar')\n"
   ]
  },
  {
   "cell_type": "code",
   "execution_count": 85,
   "id": "5d6f1db7",
   "metadata": {},
   "outputs": [],
   "source": [
    "# Maximum movies are released in 2018\n",
    "# Total movies released before 2017 are equal to total movies released 2017 to 2021"
   ]
  },
  {
   "cell_type": "markdown",
   "id": "c20f0d15",
   "metadata": {},
   "source": [
    "## duration"
   ]
  },
  {
   "cell_type": "markdown",
   "id": "97745d3c",
   "metadata": {},
   "source": [
    " There are two different type of durations for Movies it's in miniutes and for TV Shows it's in season"
   ]
  },
  {
   "cell_type": "code",
   "execution_count": 86,
   "id": "cc6ad6b6",
   "metadata": {},
   "outputs": [
    {
     "data": {
      "image/png": "[encoded data removed]",
      "text/plain": [
       "<Figure size 432x288 with 1 Axes>"
      ]
     },
     "metadata": {
      "needs_background": "light"
     },
     "output_type": "display_data"
    }
   ],
   "source": [
    "#first we will see about duration which is in `duration_min` from `Movie_df`\n",
    "plt.hist(Movie_df['duration_min'])\n",
    "plt.show()"
   ]
  },
  {
   "cell_type": "code",
   "execution_count": 110,
   "id": "ea46d638",
   "metadata": {},
   "outputs": [
    {
     "name": "stderr",
     "output_type": "stream",
     "text": [
      "C:\\Python3.10.4\\lib\\site-packages\\seaborn\\distributions.py:2619: FutureWarning:\n",
      "\n",
      "`distplot` is a deprecated function and will be removed in a future version. Please adapt your code to use either `displot` (a figure-level function with similar flexibility) or `histplot` (an axes-level function for histograms).\n",
      "\n"
     ]
    },
    {
     "data": {
      "image/png": "[encoded data removed]",
      "text/plain": [
       "<Figure size 720x576 with 1 Axes>"
      ]
     },
     "metadata": {
      "needs_background": "light"
     },
     "output_type": "display_data"
    }
   ],
   "source": [
    "plt.figure(figsize=(10,8))\n",
    "sns.distplot(Movie_df['duration_min'])\n",
    "plt.show()"
   ]
  },
  {
   "cell_type": "code",
   "execution_count": 89,
   "id": "6dcdeaf6",
   "metadata": {},
   "outputs": [
    {
     "data": {
      "text/plain": [
       "count    6131.000000\n",
       "mean       99.564998\n",
       "std        28.289504\n",
       "min         3.000000\n",
       "25%        87.000000\n",
       "50%        98.000000\n",
       "75%       114.000000\n",
       "max       312.000000\n",
       "Name: duration_min, dtype: float64"
      ]
     },
     "execution_count": 89,
     "metadata": {},
     "output_type": "execute_result"
    }
   ],
   "source": [
    "Movie_df['duration_min'].describe()"
   ]
  },
  {
   "cell_type": "code",
   "execution_count": null,
   "id": "75abf436",
   "metadata": {},
   "outputs": [],
   "source": [
    "# The average movie time is 100 mins\n",
    "# maximum movies are in the range of 87 to 114 minutes\n",
    "# we can see that there are sevral movies which are less than 50 mins ."
   ]
  },
  {
   "cell_type": "code",
   "execution_count": null,
   "id": "4438d3dc",
   "metadata": {},
   "outputs": [],
   "source": []
  }
 ],
 "metadata": {
  "kernelspec": {
   "display_name": "Python 3 (ipykernel)",
   "language": "python",
   "name": "python3"
  },
  "language_info": {
   "codemirror_mode": {
    "name": "ipython",
    "version": 3
   },
   "file_extension": ".py",
   "mimetype": "text/x-python",
   "name": "python",
   "nbconvert_exporter": "python",
   "pygments_lexer": "ipython3",
   "version": "3.10.4"
  }
 },
 "nbformat": 4,
 "nbformat_minor": 5
}
